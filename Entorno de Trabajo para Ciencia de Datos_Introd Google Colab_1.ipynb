{
 "cells": [
  {
   "cell_type": "markdown",
   "source": "<a href=\"https://colab.research.google.com/github/hsalazars/Platzi_Clases/blob/master/Entorno%20de%20Trabajo%20para%20Ciencia%20de%20Datos_Introd%20Google%20Colab_1.ipynb\" target=\"_parent\"><img src=\"https://colab.research.google.com/assets/colab-badge.svg\" alt=\"Open In Colab\"/></a>",
   "metadata": {
    "id": "view-in-github",
    "colab_type": "text",
    "cell_id": "00000-6447ff3c-f4b6-4330-9140-aa7eff11e4b1",
    "deepnote_cell_type": "markdown"
   }
  },
  {
   "cell_type": "markdown",
   "source": "# Introducción a Google Colaboratory\n\n\n\n",
   "metadata": {
    "id": "VX4AXt1z06p7",
    "cell_id": "00001-a7b2b444-19c5-4763-9729-194874a34834",
    "deepnote_cell_type": "markdown"
   }
  },
  {
   "cell_type": "markdown",
   "source": "## Ejecución y edición de celdas",
   "metadata": {
    "id": "3w9hDmeT1RFc",
    "cell_id": "00002-eb9ab53c-0e04-401f-bc67-b7bbfc4c5b61",
    "deepnote_cell_type": "markdown"
   }
  },
  {
   "cell_type": "markdown",
   "source": "### Celdas de código",
   "metadata": {
    "id": "kVycw82U1SNU",
    "cell_id": "00003-32a91c6e-1a33-4ca9-b131-8a177aa15d79",
    "deepnote_cell_type": "markdown"
   }
  },
  {
   "cell_type": "code",
   "metadata": {
    "id": "pmj63Cv01Smg",
    "colab": {
     "base_uri": "https://localhost:8080/"
    },
    "outputId": "f91ad15a-0716-4776-e06d-fcf1506dcf09",
    "cell_id": "00004-a99eb143-7a17-47de-b7db-640033976d2e",
    "deepnote_cell_type": "code"
   },
   "source": "1 + 2",
   "outputs": [
    {
     "output_type": "execute_result",
     "data": {
      "text/plain": "3"
     },
     "metadata": {
      "tags": []
     },
     "execution_count": 1
    }
   ],
   "execution_count": null
  },
  {
   "cell_type": "markdown",
   "source": "### Celdas de texto",
   "metadata": {
    "id": "BizkQMEJ1bFT",
    "cell_id": "00005-1b54dcee-a9d5-4164-840e-8887ef91235b",
    "deepnote_cell_type": "markdown"
   }
  },
  {
   "cell_type": "markdown",
   "source": "#### Texto enriquericido\n\n\n",
   "metadata": {
    "id": "o1RZy_-O2qwR",
    "cell_id": "00006-1f101422-c242-4bc0-9a05-b1c244c71a02",
    "deepnote_cell_type": "markdown"
   }
  },
  {
   "cell_type": "markdown",
   "source": "#### Imágenes o gifs",
   "metadata": {
    "id": "-OXWFW_u2rNL",
    "cell_id": "00007-1e1edabe-5be3-4634-a742-5015335a7b69",
    "deepnote_cell_type": "markdown"
   }
  },
  {
   "cell_type": "markdown",
   "source": "![link text](https://media.giphy.com/media/6aGXQxkohixag/giphy.gif)",
   "metadata": {
    "id": "k-Ui7NLh1bLf",
    "cell_id": "00008-d8ea1a3b-13c5-4173-a58c-2946d9feaddb",
    "deepnote_cell_type": "markdown"
   }
  },
  {
   "cell_type": "markdown",
   "source": "## Variables",
   "metadata": {
    "id": "RrNr7t6F1bP8",
    "cell_id": "00009-b3beb702-9a3c-420c-9068-3d0ebb9ddf7b",
    "deepnote_cell_type": "markdown"
   }
  },
  {
   "cell_type": "code",
   "metadata": {
    "id": "3jaRCHkS1bTf",
    "cell_id": "00010-b326e045-627f-48bb-895a-a0f1645b4b6f",
    "deepnote_cell_type": "code"
   },
   "source": "",
   "outputs": [],
   "execution_count": null
  },
  {
   "cell_type": "code",
   "metadata": {
    "id": "HiN7Chx11bWf",
    "cell_id": "00011-de15a486-b79b-491e-9303-fa6b7a60cde0",
    "deepnote_cell_type": "code"
   },
   "source": "",
   "outputs": [],
   "execution_count": null
  },
  {
   "cell_type": "markdown",
   "source": "## Línea de comandos",
   "metadata": {
    "id": "RMzLQ0KF1bZY",
    "cell_id": "00012-281e8604-27d2-4dbd-8a30-6c2ab2f90edb",
    "deepnote_cell_type": "markdown"
   }
  },
  {
   "cell_type": "code",
   "metadata": {
    "id": "diJyGyWw3392",
    "cell_id": "00013-661b39b0-cf63-4922-a6d1-a36c65fbfad0",
    "deepnote_cell_type": "code"
   },
   "source": "",
   "outputs": [],
   "execution_count": null
  },
  {
   "cell_type": "markdown",
   "source": "## Instalación de librerías",
   "metadata": {
    "id": "IcPvNSH64OGR",
    "cell_id": "00014-b423295d-169e-4d6b-b81c-53c60e046c43",
    "deepnote_cell_type": "markdown"
   }
  },
  {
   "cell_type": "code",
   "metadata": {
    "id": "_q-ajRSrFK1Q",
    "cell_id": "00015-448ce0aa-eedb-442e-8287-079ac8b51737",
    "deepnote_cell_type": "code"
   },
   "source": "",
   "outputs": [],
   "execution_count": null
  },
  {
   "cell_type": "code",
   "metadata": {
    "id": "EvgpUkAGG1hH",
    "cell_id": "00016-f0c3d211-34ae-466d-9b15-31fb184aaa0c",
    "deepnote_cell_type": "code"
   },
   "source": "",
   "outputs": [],
   "execution_count": null
  },
  {
   "cell_type": "code",
   "metadata": {
    "id": "XXW_W6F4JjzN",
    "cell_id": "00017-bbd51f03-a0d8-48bf-a1c0-3577e5f96634",
    "deepnote_cell_type": "code"
   },
   "source": "",
   "outputs": [],
   "execution_count": null
  },
  {
   "cell_type": "markdown",
   "source": "### Ciencia de datos",
   "metadata": {
    "id": "bfbnB1rw437K",
    "cell_id": "00018-21d06bff-3157-4709-8af6-ba198cdbc4dd",
    "deepnote_cell_type": "markdown"
   }
  },
  {
   "cell_type": "markdown",
   "source": "### Subir archivos",
   "metadata": {
    "id": "Zh3EV2drAyRE",
    "cell_id": "00019-4501775b-6f65-4a67-a895-2f17549fb7bd",
    "deepnote_cell_type": "markdown"
   }
  },
  {
   "cell_type": "code",
   "metadata": {
    "id": "o2zBdfYDAwoT",
    "cell_id": "00020-7d3afe1b-f565-401e-b815-495b724c6e8c",
    "deepnote_cell_type": "code"
   },
   "source": "",
   "outputs": [],
   "execution_count": null
  },
  {
   "cell_type": "markdown",
   "source": "### Librerías para Ciencia de Datos\n\n- 📊 **matplotlib**: Generación de gráficos a partir de listas o arrays.\n- 🧑‍💻 **numpy**: Cómputo científico para la manipulación de vectores.\n- 🧑‍💻 **pandas**: Manipulación y análisis de datos de tablas y series temporales.\n- 🧑‍💻 **scipy**: Herramientas y algoritmos matemáticos.\n- 📊 **seaborn**: Visualización de datos estadísticos.",
   "metadata": {
    "id": "tWT-hVeekJ7Y",
    "cell_id": "00021-f4d630bc-bce3-4b93-93c0-8f70a8608812",
    "deepnote_cell_type": "markdown"
   }
  },
  {
   "cell_type": "code",
   "metadata": {
    "id": "ARjmm8iZkKGG",
    "cell_id": "00022-1d54e4b4-a368-4afe-a134-7aa633154e0d",
    "deepnote_cell_type": "code"
   },
   "source": "import matplotlib.pyplot as plt\nimport numpy as np\nimport pandas as pd\nimport scipy as sc\nimport seaborn as sns",
   "outputs": [],
   "execution_count": null
  },
  {
   "cell_type": "markdown",
   "source": "### Gráficas",
   "metadata": {
    "id": "EMnwCNzMkKTd",
    "cell_id": "00023-4467f647-290b-4db0-b768-b117efceae92",
    "deepnote_cell_type": "markdown"
   }
  },
  {
   "cell_type": "code",
   "metadata": {
    "id": "YRzwKWVPrsv2",
    "cell_id": "00024-aa18fe5f-548a-4436-8efe-eabcb2c58884",
    "deepnote_cell_type": "code"
   },
   "source": "# load an example dataset\nfrom vega_datasets import data\ncars = data.cars()\n\n# plot the dataset, referencing dataframe column names\nimport altair as alt\nalt.Chart(cars).mark_bar().encode(\n  x=alt.X('Miles_per_Gallon', bin=True),\n  y='count()',\n)",
   "outputs": [],
   "execution_count": null
  },
  {
   "cell_type": "markdown",
   "source": "## Atajos de teclado",
   "metadata": {
    "id": "MvJKNGhb8pP8",
    "cell_id": "00025-670f8f49-73bd-4a57-9131-3e697cceca98",
    "deepnote_cell_type": "markdown"
   }
  },
  {
   "cell_type": "markdown",
   "source": "<a style='text-decoration:none;line-height:16px;display:flex;color:#5B5B62;padding:10px;justify-content:end;' href='https://deepnote.com?utm_source=created-in-deepnote-cell&projectId=c3c162d7-2c79-41ce-9b6c-87b66fd33859' target=\"_blank\">\n<img alt='Created in deepnote.com' style='display:inline;max-height:16px;margin:0px;margin-right:7.5px;' src='data:image/svg+xml;base64,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' > </img>\nCreated in <span style='font-weight:600;margin-left:4px;'>Deepnote</span></a>",
   "metadata": {
    "tags": [],
    "created_in_deepnote_cell": true,
    "deepnote_cell_type": "markdown"
   }
  }
 ],
 "nbformat": 4,
 "nbformat_minor": 0,
 "metadata": {
  "colab": {
   "name": "introduccion_colab_live_07b0ed82-599e-45a5-a89a-cbcdb23943bb.ipynb",
   "provenance": [],
   "collapsed_sections": [],
   "include_colab_link": true
  },
  "kernelspec": {
   "display_name": "Python 3",
   "name": "python3"
  },
  "language_info": {
   "name": "python"
  },
  "deepnote_notebook_id": "50d889b1-dc89-4df2-bc12-c5cfe98c07fd",
  "deepnote": {},
  "deepnote_execution_queue": []
 }
}